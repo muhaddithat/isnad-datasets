{
 "cells": [
  {
   "cell_type": "markdown",
   "id": "10b522cc",
   "metadata": {},
   "source": [
    "## Notebook Description\n",
    "This Jupyter Notebook opens a csv file that contains rows of hadiths with their corresponding isnads, cleans it up, turns it into a graph, and uploads that graph to GraphSpace. \n",
    "\n",
    "This is very similar to subgraph-generator-from-narrator-files.ipynb, but instead of taking individual narrator-based files as input, it takes a hadith-based file.\n",
    "\n",
    "Useful references: \n",
    "- https://graphspace-python-library.readthedocs.io/en/develop/tutorial/tutorial.html \n",
    "- https://manual.graphspace.org/projects/graphspace-python/en/latest/reference"
   ]
  },
  {
   "cell_type": "markdown",
   "id": "fab8b462",
   "metadata": {},
   "source": [
    "## Imports"
   ]
  },
  {
   "cell_type": "code",
   "execution_count": 2,
   "id": "c1d2a549",
   "metadata": {},
   "outputs": [],
   "source": [
    "from graphspace_python.graphs.classes.gsgraph import GSGraph\n",
    "import plotly.express as px\n",
    "import json\n",
    "import pandas as pd"
   ]
  },
  {
   "cell_type": "markdown",
   "id": "4a4e58e3",
   "metadata": {},
   "source": [
    "## Functions"
   ]
  },
  {
   "cell_type": "markdown",
   "id": "e3e91221",
   "metadata": {},
   "source": [
    "### clean_index_list(column_name)\n",
    "- **input**: df, a dataframe, and column_name, a string. The name of the column that stores the strings of comma-separated digits (indices of the scholars - either students or teachers)\n",
    "- **output**: list of numeric indices built from that column\n",
    "\n",
    "basically: strings of lists of numbers ---> turns into ---> lists of numeric indices"
   ]
  },
  {
   "cell_type": "code",
   "execution_count": 3,
   "id": "ed701396",
   "metadata": {},
   "outputs": [],
   "source": [
    "def clean_index_list(df, column_name): \n",
    "    inds_corrected = []\n",
    "    for indx, data in df.loc[:,[column_name]].iterrows():\n",
    "        \n",
    "        inds_original = data[0] # currently a string of numbers separated by commas\n",
    "        \n",
    "        # if it's null, append it to corrected list: null students = no students.\n",
    "        if pd.isna(inds_original):\n",
    "            inds_corrected.append(inds_original)\n",
    "\n",
    "         # if it's a string, split by commas and turn the strings of digits into ints. \n",
    "        elif isinstance(inds_original, str):\n",
    "            temp = []\n",
    "            for item in inds_original.split(','):\n",
    "                if item.strip().isdigit():\n",
    "                    temp.append(int(item.strip()))\n",
    "                else:\n",
    "                    print(\"Non-numeric character found in what is supposed to be a string of comma-separated digits of teachers or students at id=\"+str(indx)+\", value: \"+item.strip())\n",
    "            inds_corrected.append(temp)\n",
    "        else:\n",
    "            raise TypeError(\"index value at indx \"+str(indx)+\" is neither str nor NaN\")\n",
    "        \n",
    "    return inds_corrected"
   ]
  },
  {
   "cell_type": "markdown",
   "id": "e8caec5b",
   "metadata": {},
   "source": [
    "## Read + clean the data"
   ]
  },
  {
   "cell_type": "markdown",
   "id": "621e9ed7",
   "metadata": {},
   "source": [
    "### Start with the hadith dataset"
   ]
  },
  {
   "cell_type": "code",
   "execution_count": 4,
   "id": "6a508f6e",
   "metadata": {},
   "outputs": [
    {
     "data": {
      "text/html": [
       "<div>\n",
       "<style scoped>\n",
       "    .dataframe tbody tr th:only-of-type {\n",
       "        vertical-align: middle;\n",
       "    }\n",
       "\n",
       "    .dataframe tbody tr th {\n",
       "        vertical-align: top;\n",
       "    }\n",
       "\n",
       "    .dataframe thead th {\n",
       "        text-align: right;\n",
       "    }\n",
       "</style>\n",
       "<table border=\"1\" class=\"dataframe\">\n",
       "  <thead>\n",
       "    <tr style=\"text-align: right;\">\n",
       "      <th></th>\n",
       "      <th>id</th>\n",
       "      <th>URL</th>\n",
       "      <th>isnad</th>\n",
       "      <th>notes</th>\n",
       "    </tr>\n",
       "  </thead>\n",
       "  <tbody>\n",
       "    <tr>\n",
       "      <th>0</th>\n",
       "      <td>1</td>\n",
       "      <td>https://sunnah.com/bukhari:212</td>\n",
       "      <td>1, 53, 10511, 11065, 20001</td>\n",
       "      <td>NaN</td>\n",
       "    </tr>\n",
       "    <tr>\n",
       "      <th>1</th>\n",
       "      <td>2</td>\n",
       "      <td>https://sunnah.com/bukhari:1877</td>\n",
       "      <td>1, 9, 53</td>\n",
       "      <td>NaN</td>\n",
       "    </tr>\n",
       "    <tr>\n",
       "      <th>2</th>\n",
       "      <td>3</td>\n",
       "      <td>https://sunnah.com/ibnmajah:3841</td>\n",
       "      <td>1, 53, 13</td>\n",
       "      <td>NaN</td>\n",
       "    </tr>\n",
       "    <tr>\n",
       "      <th>3</th>\n",
       "      <td>4</td>\n",
       "      <td>https://sunnah.com/nasai:1857</td>\n",
       "      <td>1, 53, 17</td>\n",
       "      <td>NaN</td>\n",
       "    </tr>\n",
       "    <tr>\n",
       "      <th>4</th>\n",
       "      <td>5</td>\n",
       "      <td>https://sunnah.com/nasai:1856</td>\n",
       "      <td>1, 53, 11455</td>\n",
       "      <td>NaN</td>\n",
       "    </tr>\n",
       "  </tbody>\n",
       "</table>\n",
       "</div>"
      ],
      "text/plain": [
       "   id                               URL                       isnad  notes\n",
       "0   1    https://sunnah.com/bukhari:212  1, 53, 10511, 11065, 20001    NaN\n",
       "1   2   https://sunnah.com/bukhari:1877                    1, 9, 53    NaN\n",
       "2   3  https://sunnah.com/ibnmajah:3841                   1, 53, 13    NaN\n",
       "3   4     https://sunnah.com/nasai:1857                   1, 53, 17    NaN\n",
       "4   5     https://sunnah.com/nasai:1856                1, 53, 11455    NaN"
      ]
     },
     "execution_count": 4,
     "metadata": {},
     "output_type": "execute_result"
    }
   ],
   "source": [
    "df = pd.read_csv('data/hadiths.csv', encoding='utf-8')\n",
    "df.head()"
   ]
  },
  {
   "cell_type": "code",
   "execution_count": 5,
   "id": "e95f13cc",
   "metadata": {},
   "outputs": [
    {
     "data": {
      "text/html": [
       "<div>\n",
       "<style scoped>\n",
       "    .dataframe tbody tr th:only-of-type {\n",
       "        vertical-align: middle;\n",
       "    }\n",
       "\n",
       "    .dataframe tbody tr th {\n",
       "        vertical-align: top;\n",
       "    }\n",
       "\n",
       "    .dataframe thead th {\n",
       "        text-align: right;\n",
       "    }\n",
       "</style>\n",
       "<table border=\"1\" class=\"dataframe\">\n",
       "  <thead>\n",
       "    <tr style=\"text-align: right;\">\n",
       "      <th></th>\n",
       "      <th>id</th>\n",
       "      <th>URL</th>\n",
       "      <th>notes</th>\n",
       "      <th>isnad</th>\n",
       "    </tr>\n",
       "  </thead>\n",
       "  <tbody>\n",
       "    <tr>\n",
       "      <th>0</th>\n",
       "      <td>1</td>\n",
       "      <td>https://sunnah.com/bukhari:212</td>\n",
       "      <td></td>\n",
       "      <td>[1, 53, 10511, 11065, 20001]</td>\n",
       "    </tr>\n",
       "    <tr>\n",
       "      <th>1</th>\n",
       "      <td>2</td>\n",
       "      <td>https://sunnah.com/bukhari:1877</td>\n",
       "      <td></td>\n",
       "      <td>[1, 9, 53]</td>\n",
       "    </tr>\n",
       "    <tr>\n",
       "      <th>2</th>\n",
       "      <td>3</td>\n",
       "      <td>https://sunnah.com/ibnmajah:3841</td>\n",
       "      <td></td>\n",
       "      <td>[1, 53, 13]</td>\n",
       "    </tr>\n",
       "    <tr>\n",
       "      <th>3</th>\n",
       "      <td>4</td>\n",
       "      <td>https://sunnah.com/nasai:1857</td>\n",
       "      <td></td>\n",
       "      <td>[1, 53, 17]</td>\n",
       "    </tr>\n",
       "    <tr>\n",
       "      <th>4</th>\n",
       "      <td>5</td>\n",
       "      <td>https://sunnah.com/nasai:1856</td>\n",
       "      <td></td>\n",
       "      <td>[1, 53, 11455]</td>\n",
       "    </tr>\n",
       "  </tbody>\n",
       "</table>\n",
       "</div>"
      ],
      "text/plain": [
       "   id                               URL notes                         isnad\n",
       "0   1    https://sunnah.com/bukhari:212        [1, 53, 10511, 11065, 20001]\n",
       "1   2   https://sunnah.com/bukhari:1877                          [1, 9, 53]\n",
       "2   3  https://sunnah.com/ibnmajah:3841                         [1, 53, 13]\n",
       "3   4     https://sunnah.com/nasai:1857                         [1, 53, 17]\n",
       "4   5     https://sunnah.com/nasai:1856                      [1, 53, 11455]"
      ]
     },
     "execution_count": 5,
     "metadata": {},
     "output_type": "execute_result"
    }
   ],
   "source": [
    "# Clean the columns with the teacher/student indices\n",
    "\n",
    "\n",
    "isnads_corrected = clean_index_list(df, 'isnad')\n",
    "\n",
    "# remove old columns  \n",
    "del df['isnad']\n",
    "\n",
    "# assign corrected columns to the dataset\n",
    "df = df.assign(isnad=isnads_corrected)\n",
    "\n",
    "df = df.fillna('')\n",
    "df.head()"
   ]
  },
  {
   "cell_type": "markdown",
   "id": "72d67ce5",
   "metadata": {},
   "source": [
    "### Read + clean the narrators dataset"
   ]
  },
  {
   "cell_type": "code",
   "execution_count": 6,
   "id": "c7c1d72d",
   "metadata": {},
   "outputs": [],
   "source": [
    "info = pd.read_csv('data/variousnarrators.csv', encoding='utf-8')\n",
    "info = info.fillna('')\n",
    "info.set_index('id', inplace=True)\n",
    "#str(info.loc[info['id'] == 846]['displayname'])\n",
    "#info.loc[846, 'displayname']"
   ]
  },
  {
   "cell_type": "markdown",
   "id": "4b2b97b9",
   "metadata": {},
   "source": [
    "## Make the graph\n",
    "### makegraph(specifiednarrator, isnaddf, narratordf):\n",
    "**input:**\n",
    "- **specifiednarrator**: the ID number of the narrator whose isnads you want to include in the graph. Any isnad in the dataset *without* this narrator's ID will be excluded.\n",
    "- **isnaddf**: in this case, this is the \"isnad\" dataframe defined above, created from hadiths.csv. It expects a dataframe in that format (list of hadiths, each hadith having a numerical list of IDs as its isnad). \n",
    "- **narratordf**: this is the \"info\" dataframe defined above, created from variousnarrators.csv. It expects a list of narrator IDs, each ID corresponding to various columns of information (displayname, fullname, gender, generation, etc.). \n",
    "\n",
    "\n",
    "**output:** a directed graph with narrators as nodes and the edges symbolizing the teacher-student relationships between them"
   ]
  },
  {
   "cell_type": "code",
   "execution_count": 7,
   "id": "32bfe1c4",
   "metadata": {},
   "outputs": [],
   "source": [
    "def makegraph(specifiednarrator, isnaddf, narratordf):\n",
    "    G = GSGraph()\n",
    "    \n",
    "    # add nodes\n",
    "    for currentisnad in isnaddf['isnad']:\n",
    "        if specifiednarrator not in currentisnad: # we only want the isnads with the specified narrator in it\n",
    "            continue\n",
    "        for narrator in range(len(currentisnad)):\n",
    "            n = currentisnad[narrator]\n",
    "            if not G.has_node(n): \n",
    "                G.add_node(n, label=narratordf.loc[n, 'displayname'], fullname=narratordf.loc[n, 'fullname'],searchname=narratordf.loc[n, 'searchname'],arabicname=narratordf.loc[n, 'arabicname'],gender=narratordf.loc[n, 'gender'], info=narratordf.loc[n, 'info']) \n",
    "\n",
    "    # add edges \n",
    "    for indx, data in isnaddf.iterrows():\n",
    "        currentisnad = data['isnad']\n",
    "        if specifiednarrator not in currentisnad:\n",
    "            continue\n",
    "        for narrator in range(1, len(currentisnad)):\n",
    "            n = currentisnad[narrator]\n",
    "            n_previous = currentisnad[narrator-1]\n",
    "            if not G.has_edge(n_previous, n):\n",
    "                G.add_edge(n_previous, n, narratedfrom=narratordf.loc[n_previous, 'displayname'], narratedto=narratordf.loc[n, 'displayname'], hadithurl=data['URL']) \n",
    "    \n",
    "    return G\n"
   ]
  },
  {
   "cell_type": "markdown",
   "id": "1b055e6a",
   "metadata": {},
   "source": [
    "### Make the graph"
   ]
  },
  {
   "cell_type": "code",
   "execution_count": 8,
   "id": "f843c62c",
   "metadata": {},
   "outputs": [],
   "source": [
    "# Set up connection to GraphSpace\n",
    "\n",
    "from graphspace_python.api.client import GraphSpace\n",
    "graphspace = GraphSpace('USERNAME', 'PASSWORD')"
   ]
  },
  {
   "cell_type": "code",
   "execution_count": 9,
   "id": "a51126fd",
   "metadata": {},
   "outputs": [
    {
     "name": "stdout",
     "output_type": "stream",
     "text": [
      "There are 13 nodes and 14 edges in the original graph.\n"
     ]
    },
    {
     "data": {
      "text/plain": [
       "OutEdgeView([(1, 13), (1, 37), (1, 5250), (13, 11457), (11457, 11011), (11457, 10683), (11457, 10920), (11457, 11044), (11457, 18679), (37, 11457), (10683, 11019), (5250, 11457), (10920, 11013), (11013, 20012)])"
      ]
     },
     "execution_count": 9,
     "metadata": {},
     "output_type": "execute_result"
    }
   ],
   "source": [
    "# Create a variable and initialize it as a GraphSpace graph\n",
    "G = makegraph(11457, df, info)\n",
    "\n",
    "# set metadata for the graph\n",
    "metadata = {\n",
    "     'description': 'This is a graph of hadith narrators',\n",
    "     'directed': True\n",
    "}\n",
    "G.set_data(metadata)\n",
    "\n",
    "\n",
    "print('There are '+str(len(G.nodes))+' nodes and '+\n",
    "      str(len(G.edges))+' edges in the original graph.')\n",
    "G.nodes()\n",
    "G.edges"
   ]
  },
  {
   "cell_type": "code",
   "execution_count": 17,
   "id": "8fd2fc41",
   "metadata": {},
   "outputs": [
    {
     "data": {
      "text/plain": [
       "34317"
      ]
     },
     "execution_count": 17,
     "metadata": {},
     "output_type": "execute_result"
    }
   ],
   "source": [
    "#graph = graphspace.post_graph(narratorsgraph)\n",
    "graph = graphspace.post_graph(G)\n",
    "graph.get_name()\n",
    "graph.id"
   ]
  },
  {
   "cell_type": "code",
   "execution_count": null,
   "id": "82e2376d",
   "metadata": {},
   "outputs": [],
   "source": []
  }
 ],
 "metadata": {
  "kernelspec": {
   "display_name": "Python 3 (ipykernel)",
   "language": "python",
   "name": "python3"
  },
  "language_info": {
   "codemirror_mode": {
    "name": "ipython",
    "version": 3
   },
   "file_extension": ".py",
   "mimetype": "text/x-python",
   "name": "python",
   "nbconvert_exporter": "python",
   "pygments_lexer": "ipython3",
   "version": "3.7.3"
  }
 },
 "nbformat": 4,
 "nbformat_minor": 5
}
